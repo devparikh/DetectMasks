{
 "cells": [
  {
   "cell_type": "code",
   "execution_count": 1,
   "metadata": {},
   "outputs": [
    {
     "name": "stderr",
     "output_type": "stream",
     "text": [
      "Using TensorFlow backend.\n"
     ]
    },
    {
     "name": "stdout",
     "output_type": "stream",
     "text": [
      "Train on 2896 samples, validate on 725 samples\n",
      "Epoch 1/20\n",
      "2896/2896 [==============================] - 153s 53ms/step - loss: 0.6722 - accuracy: 0.5974 - val_loss: 0.5759 - val_accuracy: 0.6952\n",
      "Epoch 2/20\n",
      "2896/2896 [==============================] - 146s 50ms/step - loss: 0.5089 - accuracy: 0.7548 - val_loss: 0.4526 - val_accuracy: 0.7972\n",
      "Epoch 3/20\n",
      "2896/2896 [==============================] - 127s 44ms/step - loss: 0.4193 - accuracy: 0.8101 - val_loss: 0.4156 - val_accuracy: 0.8124\n",
      "Epoch 4/20\n",
      "2896/2896 [==============================] - 128s 44ms/step - loss: 0.3688 - accuracy: 0.8343 - val_loss: 0.4506 - val_accuracy: 0.7724\n",
      "Epoch 5/20\n",
      "2896/2896 [==============================] - 127s 44ms/step - loss: 0.3510 - accuracy: 0.8356 - val_loss: 0.3929 - val_accuracy: 0.8097\n",
      "Epoch 6/20\n",
      "2896/2896 [==============================] - 127s 44ms/step - loss: 0.2952 - accuracy: 0.8643 - val_loss: 0.3697 - val_accuracy: 0.8331\n",
      "Epoch 7/20\n",
      "2896/2896 [==============================] - 132s 46ms/step - loss: 0.2743 - accuracy: 0.8847 - val_loss: 0.3819 - val_accuracy: 0.8166\n",
      "Epoch 8/20\n",
      "2896/2896 [==============================] - 134s 46ms/step - loss: 0.2330 - accuracy: 0.9044 - val_loss: 0.4194 - val_accuracy: 0.8262\n",
      "Epoch 9/20\n",
      "2896/2896 [==============================] - 127s 44ms/step - loss: 0.2326 - accuracy: 0.9040 - val_loss: 0.4066 - val_accuracy: 0.8069\n",
      "Epoch 10/20\n",
      "2896/2896 [==============================] - 128s 44ms/step - loss: 0.2074 - accuracy: 0.9133 - val_loss: 0.4575 - val_accuracy: 0.8234\n",
      "Epoch 11/20\n",
      "2896/2896 [==============================] - 130s 45ms/step - loss: 0.1761 - accuracy: 0.9289 - val_loss: 0.3781 - val_accuracy: 0.8290\n",
      "Epoch 12/20\n",
      "2896/2896 [==============================] - 132s 46ms/step - loss: 0.1700 - accuracy: 0.9302 - val_loss: 0.4034 - val_accuracy: 0.8276\n",
      "Epoch 13/20\n",
      "2896/2896 [==============================] - 131s 45ms/step - loss: 0.1415 - accuracy: 0.9465 - val_loss: 0.4059 - val_accuracy: 0.8400\n",
      "Epoch 14/20\n",
      "2896/2896 [==============================] - 145s 50ms/step - loss: 0.1208 - accuracy: 0.9541 - val_loss: 0.4508 - val_accuracy: 0.8317\n",
      "Epoch 15/20\n",
      "2896/2896 [==============================] - 137s 47ms/step - loss: 0.1077 - accuracy: 0.9599 - val_loss: 0.4516 - val_accuracy: 0.8303\n",
      "Epoch 16/20\n",
      "2896/2896 [==============================] - 140s 49ms/step - loss: 0.0857 - accuracy: 0.9669 - val_loss: 0.5040 - val_accuracy: 0.8331\n",
      "Epoch 17/20\n",
      "2896/2896 [==============================] - 147s 51ms/step - loss: 0.0822 - accuracy: 0.9724 - val_loss: 0.4513 - val_accuracy: 0.8469\n",
      "Epoch 18/20\n",
      "2896/2896 [==============================] - 146s 50ms/step - loss: 0.0705 - accuracy: 0.9762 - val_loss: 0.4945 - val_accuracy: 0.8359\n",
      "Epoch 19/20\n",
      "2896/2896 [==============================] - 155s 54ms/step - loss: 0.0583 - accuracy: 0.9779 - val_loss: 0.5392 - val_accuracy: 0.8455\n",
      "Epoch 20/20\n",
      "2896/2896 [==============================] - 208s 72ms/step - loss: 0.0547 - accuracy: 0.9827 - val_loss: 0.5773 - val_accuracy: 0.8428\n"
     ]
    }
   ],
   "source": [
    "import numpy as np\n",
    "\n",
    "data=np.load('data.npy')\n",
    "target=np.load('target.npy')\n",
    "\n",
    "#loading the save numpy arrays in the previous code\n",
    "\n",
    "from keras.models import Sequential\n",
    "from keras.layers import Dense,Activation,Flatten,Dropout\n",
    "from keras.layers import Conv2D,MaxPooling2D\n",
    "from keras.callbacks import ModelCheckpoint\n",
    "\n",
    "model=Sequential()\n",
    "\n",
    "model.add(Conv2D(200,(3,3),input_shape=data.shape[1:]))\n",
    "model.add(Activation('relu'))\n",
    "model.add(MaxPooling2D(pool_size=(2,2)))\n",
    "#The first CNN layer followed by Relu and MaxPooling layers\n",
    "\n",
    "model.add(Conv2D(100,(3,3)))\n",
    "model.add(Activation('relu'))\n",
    "model.add(MaxPooling2D(pool_size=(2,2)))\n",
    "#The second convolution layer followed by Relu and MaxPooling layers\n",
    "\n",
    "model.add(Flatten())\n",
    "model.add(Dropout(0.5))\n",
    "#Flatten layer to stack the output convolutions from second convolution layer\n",
    "model.add(Dense(50,activation='relu'))\n",
    "#Dense layer of 64 neurons\n",
    "model.add(Dense(2,activation='softmax'))\n",
    "#The Final layer with two outputs for two categories\n",
    "\n",
    "model.compile(loss='categorical_crossentropy',optimizer='adam',metrics=['accuracy'])\n",
    "\n",
    "from sklearn.model_selection import train_test_split\n",
    "\n",
    "train_data,test_data,train_target,test_target=train_test_split(data,target,test_size=0.1)\n",
    "\n",
    "checkpoint = ModelCheckpoint('model-{epoch:03d}.model',monitor='val_loss',verbose=0,save_best_only=True,mode='auto')\n",
    "history=model.fit(train_data,train_target,epochs=20,callbacks=[checkpoint],validation_split=0.2)"
   ]
  },
  {
   "cell_type": "code",
   "execution_count": 8,
   "metadata": {},
   "outputs": [
    {
     "data": {
      "image/png": "[encoded data removed]",
      "text/plain": [
       "<Figure size 432x288 with 1 Axes>"
      ]
     },
     "metadata": {
      "needs_background": "light"
     },
     "output_type": "display_data"
    }
   ],
   "source": [
    "from matplotlib import pyplot as plt\n",
    "\n",
    "plt.plot(history.history['loss'],'r',label='training loss')\n",
    "plt.plot(history.history['val_loss'],label='validation loss')\n",
    "plt.xlabel('# epochs')\n",
    "plt.ylabel('loss')\n",
    "plt.legend()\n",
    "plt.show()\n",
    "\n",
    "plt.plot(history.history['accuracy'],'r',label='training accuracy')\n",
    "plt.plot(history.history['val_accuracy'],label='validation accuracy')\n",
    "plt.xlabel('# epochs')\n",
    "plt.ylabel('loss')\n",
    "plt.legend()\n",
    "plt.show()\n",
    "\n",
    "print(model.evaluate(test_data,test_target))"
   ]
  },
  {
   "cell_type": "code",
   "execution_count": null,
   "metadata": {},
   "outputs": [],
   "source": []
  }
 ],
 "metadata": {
  "kernelspec": {
   "display_name": "Python [conda env:stocks]",
   "language": "python",
   "name": "conda-env-stocks-py"
  },
  "language_info": {
   "codemirror_mode": {
    "name": "ipython",
    "version": 3
   },
   "file_extension": ".py",
   "mimetype": "text/x-python",
   "name": "python",
   "nbconvert_exporter": "python",
   "pygments_lexer": "ipython3",
   "version": "3.7.5"
  }
 },
 "nbformat": 4,
 "nbformat_minor": 2
}
